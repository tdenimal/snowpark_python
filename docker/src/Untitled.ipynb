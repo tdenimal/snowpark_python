{
 "cells": [
  {
   "cell_type": "code",
   "execution_count": 3,
   "id": "4bb42a38",
   "metadata": {},
   "outputs": [
    {
     "name": "stdout",
     "output_type": "stream",
     "text": [
      "-------------\n",
      "|\"A\"  |\"B\"  |\n",
      "-------------\n",
      "|3    |4    |\n",
      "-------------\n",
      "\n"
     ]
    }
   ],
   "source": [
    "from snowflake.snowpark import Session\n",
    "\n",
    "connection_parameters = {\n",
    "  \"account\": \"GI23053.west-europe.azure\",\n",
    "  \"user\": \"tdenimal\",\n",
    "  \"password\": \"xxxxxxx\",\n",
    "  \"role\": \"ACCOUNTADMIN\",\n",
    "  \"warehouse\": \"COMPUTE_WH\",\n",
    "  \"database\": \"MYDATABASE\",\n",
    "  \"schema\": \"PUBLIC\"\n",
    "}\n",
    "\n",
    "session = Session.builder.configs(connection_parameters).create()\n",
    "df = session.create_dataframe([[1, 2], [3, 4]], schema=[\"a\", \"b\"])\n",
    "df = df.filter(df.a > 1)\n",
    "df.show()\n",
    "pandas_df = df.to_pandas()  # this requires pandas installed in the Python environment\n",
    "result = df.collect()"
   ]
  },
  {
   "cell_type": "code",
   "execution_count": 6,
   "id": "248bcbf6",
   "metadata": {},
   "outputs": [
    {
     "data": {
      "text/plain": [
       "pandas.core.frame.DataFrame"
      ]
     },
     "execution_count": 6,
     "metadata": {},
     "output_type": "execute_result"
    }
   ],
   "source": [
    "type(pandas_df)"
   ]
  },
  {
   "cell_type": "code",
   "execution_count": 7,
   "id": "de35f1b5",
   "metadata": {},
   "outputs": [
    {
     "data": {
      "text/plain": [
       "snowflake.snowpark.dataframe.DataFrame"
      ]
     },
     "execution_count": 7,
     "metadata": {},
     "output_type": "execute_result"
    }
   ],
   "source": [
    "type(df)"
   ]
  },
  {
   "cell_type": "code",
   "execution_count": null,
   "id": "5f4fa309",
   "metadata": {},
   "outputs": [],
   "source": []
  }
 ],
 "metadata": {
  "kernelspec": {
   "display_name": "Python 3 (ipykernel)",
   "language": "python",
   "name": "python3"
  },
  "language_info": {
   "codemirror_mode": {
    "name": "ipython",
    "version": 3
   },
   "file_extension": ".py",
   "mimetype": "text/x-python",
   "name": "python",
   "nbconvert_exporter": "python",
   "pygments_lexer": "ipython3",
   "version": "3.8.13"
  }
 },
 "nbformat": 4,
 "nbformat_minor": 5
}
